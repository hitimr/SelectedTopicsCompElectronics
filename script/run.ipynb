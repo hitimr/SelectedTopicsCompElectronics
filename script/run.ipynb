{
 "cells": [
  {
   "cell_type": "code",
   "execution_count": 1,
   "metadata": {},
   "outputs": [],
   "source": [
    "import socket\n",
    "import numpy as np\n",
    "import pandas as pd\n",
    "import platform\n",
    "import logging\n",
    "\n",
    "import common\n",
    "\n"
   ]
  },
  {
   "cell_type": "code",
   "execution_count": 46,
   "metadata": {},
   "outputs": [
    {
     "data": {
      "text/plain": [
       "{'host_name': 'Hiti-Work',\n",
       " 'cpu_name': 'AMD Ryzen 7 3700X 8-Core Processor',\n",
       " 'gpu_name': 'NVIDIA GeForce GTX 970',\n",
       " 'cpu_price': 350.0,\n",
       " 'cpu_power': 65.0,\n",
       " 'gpu_price': 260.0,\n",
       " 'gpu_power': 500.0}"
      ]
     },
     "execution_count": 46,
     "metadata": {},
     "output_type": "execute_result"
    }
   ],
   "source": [
    "def get_CPU_data(cpu_name):\n",
    "    if(cpu_name == \"AMD Ryzen 7 3700X 8-Core Processor\"):\n",
    "        return {\n",
    "            \"cpu_price\": 350.0,\n",
    "            \"cpu_power\": 65.0,\n",
    "            \"n_threads\": 8\n",
    "        }\n",
    "    \n",
    "    if(cpu_name == \"Intel(R) Xeon(R) Gold 6248 CPU @ 2.50GHz\"): \n",
    "        return {\n",
    "            \"cpu_price\": 3290.0,\n",
    "            \"cpu_power\": 150.0,\n",
    "            \"n_threads\": 40\n",
    "        }\n",
    "\n",
    "    else: \n",
    "        logging.warning(f\"Unknown CPU {cpu_name}\")\n",
    "        return {}\n",
    "\n",
    "\n",
    "def get_GPU_data(gpu_name):\n",
    "    if(gpu_name == \"NVIDIA GeForce GTX 970\"):\n",
    "        return {\n",
    "            \"gpu_price\": 260.0,\n",
    "            \"gpu_power\": 500.0,\n",
    "            \"gpu_grid_size\": 256,\n",
    "            \"gpu_block_size\": 256\n",
    "        }\n",
    "    if(gpu_name == \"Tesla T4\"):\n",
    "        return {\n",
    "            \"gpu_price\": 2500.0,\n",
    "            \"gpu_power\": 70.0,\n",
    "            \"gpu_grid_size\": 256,\n",
    "            \"gpu_block_size\": 256\n",
    "        }\n",
    "    \n",
    "\n",
    "def get_system_information():\n",
    "    cpu_name = cpuinfo.get_cpu_info()[\"brand_raw\"]\n",
    "    gpu_name = os.popen(\"nvidia-smi --query-gpu=name --format=csv\").read().split(\"\\n\")[1]\n",
    "\n",
    "    data = {\n",
    "        \"host_name\" : socket.gethostname(),\n",
    "        \"cpu_name\": cpu_name,\n",
    "        \"gpu_name\": gpu_name\n",
    "    }\n",
    "\n",
    "    data.update(get_CPU_data(cpu_name))\n",
    "    data.update(get_GPU_data(gpu_name))\n",
    "    return data\n",
    "\n",
    "\n",
    "\n",
    "\n",
    "get_system_information()"
   ]
  }
 ],
 "metadata": {
  "interpreter": {
   "hash": "916dbcbb3f70747c44a77c7bcd40155683ae19c65e1c03b4aa3499c5328201f1"
  },
  "kernelspec": {
   "display_name": "Python 3.8.10 64-bit",
   "language": "python",
   "name": "python3"
  },
  "language_info": {
   "codemirror_mode": {
    "name": "ipython",
    "version": 3
   },
   "file_extension": ".py",
   "mimetype": "text/x-python",
   "name": "python",
   "nbconvert_exporter": "python",
   "pygments_lexer": "ipython3",
   "version": "3.8.10"
  },
  "orig_nbformat": 4
 },
 "nbformat": 4,
 "nbformat_minor": 2
}
